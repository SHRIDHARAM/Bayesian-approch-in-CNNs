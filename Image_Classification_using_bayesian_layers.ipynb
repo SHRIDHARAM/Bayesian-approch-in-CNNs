{
  "nbformat": 4,
  "nbformat_minor": 0,
  "metadata": {
    "colab": {
      "name": "Image Classification using bayesian layers.ipynb",
      "provenance": []
    },
    "kernelspec": {
      "name": "python3",
      "display_name": "Python 3"
    },
    "language_info": {
      "name": "python"
    },
    "accelerator": "GPU",
    "gpuClass": "standard"
  },
  "cells": [
    {
      "cell_type": "code",
      "execution_count": 11,
      "metadata": {
        "id": "CFMIz--n0USg"
      },
      "outputs": [],
      "source": [
        "import os\n",
        "import splitfolders "
      ]
    },
    {
      "cell_type": "code",
      "source": [
        "pip install split-folders"
      ],
      "metadata": {
        "colab": {
          "base_uri": "https://localhost:8080/"
        },
        "id": "WXWFkiAfa1u8",
        "outputId": "2660d99a-3594-4c62-e5d8-7482ff6d9893"
      },
      "execution_count": 12,
      "outputs": [
        {
          "output_type": "stream",
          "name": "stdout",
          "text": [
            "Looking in indexes: https://pypi.org/simple, https://us-python.pkg.dev/colab-wheels/public/simple/\n",
            "Requirement already satisfied: split-folders in /usr/local/lib/python3.7/dist-packages (0.5.1)\n"
          ]
        }
      ]
    },
    {
      "cell_type": "code",
      "source": [
        "from google.colab import drive\n",
        "drive.mount('/content/drive')"
      ],
      "metadata": {
        "colab": {
          "base_uri": "https://localhost:8080/"
        },
        "id": "QgiLV1ogiQYo",
        "outputId": "385eeb0f-ac69-410b-8d7f-7ad5156d93dc"
      },
      "execution_count": 3,
      "outputs": [
        {
          "output_type": "stream",
          "name": "stdout",
          "text": [
            "Drive already mounted at /content/drive; to attempt to forcibly remount, call drive.mount(\"/content/drive\", force_remount=True).\n"
          ]
        }
      ]
    },
    {
      "cell_type": "code",
      "source": [
        "input_dir = os.path.join('/content/drive/MyDrive/flowers')\n",
        "output_dir = os.path.join('/content/drive/MyDrive/flowers_splitted')\n",
        "splitfolders.ratio(input_dir, output=output_dir, seed=1337, ratio=(.8, .2), group_prefix=None) \n"
      ],
      "metadata": {
        "id": "yHPJICdpa3Cb",
        "colab": {
          "base_uri": "https://localhost:8080/"
        },
        "outputId": "f1b7ee04-ef74-4105-99b5-08cc6e8dfb69"
      },
      "execution_count": 4,
      "outputs": [
        {
          "output_type": "stream",
          "name": "stderr",
          "text": [
            "Copying files: 4317 files [43:43,  1.65 files/s]\n"
          ]
        }
      ]
    },
    {
      "cell_type": "code",
      "source": [
        "train_dir = os.path.join('/content/drive/MyDrive/flowers_splitted/train/')\n",
        "test_dir = os.path.join('/content/drive/MyDrive/flowers_splitted/val/')"
      ],
      "metadata": {
        "id": "h8mQ6vWHi4Tt"
      },
      "execution_count": 5,
      "outputs": []
    },
    {
      "cell_type": "code",
      "source": [
        "from tensorflow.keras.preprocessing.image import ImageDataGenerator\n",
        "\n",
        "def image_generator(train_parent_directory, test_parent_directory):\n",
        "    \n",
        "    train_datagen = ImageDataGenerator(rescale=1/255)\n",
        "    test_datagen = ImageDataGenerator(rescale=1/255)\n",
        "    \n",
        "    train_generator = train_datagen.flow_from_directory(train_parent_directory,\n",
        "                                  target_size = (75,75),\n",
        "                                  batch_size = 214,\n",
        "                                  class_mode = 'categorical',\n",
        "                                  subset='training')\n",
        " \n",
        "    \n",
        "    test_generator = test_datagen.flow_from_directory(test_parent_directory,\n",
        "                                 target_size=(75,75),\n",
        "                                 batch_size = 37,\n",
        "                                 class_mode = 'categorical')    \n",
        "    \n",
        "    return train_generator, test_generator"
      ],
      "metadata": {
        "id": "cVNexFhbjQEV"
      },
      "execution_count": 6,
      "outputs": []
    },
    {
      "cell_type": "code",
      "source": [
        "train_generator, test_generator = image_generator(train_dir, test_dir)"
      ],
      "metadata": {
        "colab": {
          "base_uri": "https://localhost:8080/"
        },
        "id": "wifVTrw9kRz2",
        "outputId": "c8fc969e-6226-49d9-df99-04d650003902"
      },
      "execution_count": 7,
      "outputs": [
        {
          "output_type": "stream",
          "name": "stdout",
          "text": [
            "Found 3452 images belonging to 5 classes.\n",
            "Found 865 images belonging to 5 classes.\n"
          ]
        }
      ]
    },
    {
      "cell_type": "markdown",
      "source": [
        "Standard CNN Model"
      ],
      "metadata": {
        "id": "dueaMyFFkaet"
      }
    },
    {
      "cell_type": "code",
      "source": [
        "from tensorflow.keras.models import Sequential\n",
        "from tensorflow.keras.layers import Dense, Conv2D, MaxPooling2D, Flatten, Dropout\n",
        "\n",
        "model = Sequential([\n",
        "    Conv2D(input_shape=(75,75,3), filters=8, kernel_size=16, activation='relu'),\n",
        "    MaxPooling2D(2,2),\n",
        "    Conv2D(32, (3,3), activation='relu'),\n",
        "    MaxPooling2D(2,2),\n",
        "    Conv2D(64, (3,3), activation='relu'),\n",
        "    MaxPooling2D(2,2),\n",
        "    Conv2D(64, (3,3), activation='relu'),\n",
        "    MaxPooling2D(2,2),\n",
        "    Flatten(),\n",
        "    Dense(512, activation='relu'),\n",
        "    Dropout(0.2),\n",
        "    Dense(units=5, activation='softmax')\n",
        "])\n",
        "model.summary()"
      ],
      "metadata": {
        "colab": {
          "base_uri": "https://localhost:8080/"
        },
        "id": "NirMTj95kV8F",
        "outputId": "153a7f25-dd3c-4434-bcab-f99818d60230"
      },
      "execution_count": 8,
      "outputs": [
        {
          "output_type": "stream",
          "name": "stdout",
          "text": [
            "Model: \"sequential\"\n",
            "_________________________________________________________________\n",
            " Layer (type)                Output Shape              Param #   \n",
            "=================================================================\n",
            " conv2d (Conv2D)             (None, 60, 60, 8)         6152      \n",
            "                                                                 \n",
            " max_pooling2d (MaxPooling2D  (None, 30, 30, 8)        0         \n",
            " )                                                               \n",
            "                                                                 \n",
            " conv2d_1 (Conv2D)           (None, 28, 28, 32)        2336      \n",
            "                                                                 \n",
            " max_pooling2d_1 (MaxPooling  (None, 14, 14, 32)       0         \n",
            " 2D)                                                             \n",
            "                                                                 \n",
            " conv2d_2 (Conv2D)           (None, 12, 12, 64)        18496     \n",
            "                                                                 \n",
            " max_pooling2d_2 (MaxPooling  (None, 6, 6, 64)         0         \n",
            " 2D)                                                             \n",
            "                                                                 \n",
            " conv2d_3 (Conv2D)           (None, 4, 4, 64)          36928     \n",
            "                                                                 \n",
            " max_pooling2d_3 (MaxPooling  (None, 2, 2, 64)         0         \n",
            " 2D)                                                             \n",
            "                                                                 \n",
            " flatten (Flatten)           (None, 256)               0         \n",
            "                                                                 \n",
            " dense (Dense)               (None, 512)               131584    \n",
            "                                                                 \n",
            " dropout (Dropout)           (None, 512)               0         \n",
            "                                                                 \n",
            " dense_1 (Dense)             (None, 5)                 2565      \n",
            "                                                                 \n",
            "=================================================================\n",
            "Total params: 198,061\n",
            "Trainable params: 198,061\n",
            "Non-trainable params: 0\n",
            "_________________________________________________________________\n"
          ]
        }
      ]
    },
    {
      "cell_type": "code",
      "source": [
        "model.compile(optimizer='adam', loss='categorical_crossentropy', metrics=['accuracy'])"
      ],
      "metadata": {
        "id": "OlFQV-mmlCt8"
      },
      "execution_count": 9,
      "outputs": []
    },
    {
      "cell_type": "code",
      "source": [
        "history = model.fit(\n",
        "      train_generator,\n",
        "      steps_per_epoch=10,  \n",
        "      epochs=50,\n",
        "      verbose=1)"
      ],
      "metadata": {
        "colab": {
          "base_uri": "https://localhost:8080/"
        },
        "id": "aQEvELFwlKhs",
        "outputId": "b9cd2560-f5b4-42a6-911a-89baa88d6e58"
      },
      "execution_count": 10,
      "outputs": [
        {
          "output_type": "stream",
          "name": "stdout",
          "text": [
            "Epoch 1/50\n",
            "10/10 [==============================] - 18s 555ms/step - loss: 1.5924 - accuracy: 0.2426\n",
            "Epoch 2/50\n",
            "10/10 [==============================] - 6s 593ms/step - loss: 1.4384 - accuracy: 0.3454\n",
            "Epoch 3/50\n",
            "10/10 [==============================] - 7s 647ms/step - loss: 1.3030 - accuracy: 0.4196\n",
            "Epoch 4/50\n",
            "10/10 [==============================] - 6s 589ms/step - loss: 1.2712 - accuracy: 0.4463\n",
            "Epoch 5/50\n",
            "10/10 [==============================] - 6s 587ms/step - loss: 1.2440 - accuracy: 0.4729\n",
            "Epoch 6/50\n",
            "10/10 [==============================] - 6s 592ms/step - loss: 1.2082 - accuracy: 0.4918\n",
            "Epoch 7/50\n",
            "10/10 [==============================] - 6s 584ms/step - loss: 1.1876 - accuracy: 0.5046\n",
            "Epoch 8/50\n",
            "10/10 [==============================] - 6s 589ms/step - loss: 1.1903 - accuracy: 0.4974\n",
            "Epoch 9/50\n",
            "10/10 [==============================] - 6s 597ms/step - loss: 1.1703 - accuracy: 0.5092\n",
            "Epoch 10/50\n",
            "10/10 [==============================] - 6s 596ms/step - loss: 1.1056 - accuracy: 0.5496\n",
            "Epoch 11/50\n",
            "10/10 [==============================] - 6s 587ms/step - loss: 1.1234 - accuracy: 0.5287\n",
            "Epoch 12/50\n",
            "10/10 [==============================] - 7s 659ms/step - loss: 1.0861 - accuracy: 0.5533\n",
            "Epoch 13/50\n",
            "10/10 [==============================] - 7s 662ms/step - loss: 1.0805 - accuracy: 0.5589\n",
            "Epoch 14/50\n",
            "10/10 [==============================] - 6s 593ms/step - loss: 1.0600 - accuracy: 0.5706\n",
            "Epoch 15/50\n",
            "10/10 [==============================] - 6s 592ms/step - loss: 1.0506 - accuracy: 0.5706\n",
            "Epoch 16/50\n",
            "10/10 [==============================] - 6s 590ms/step - loss: 1.0624 - accuracy: 0.5619\n",
            "Epoch 17/50\n",
            "10/10 [==============================] - 7s 655ms/step - loss: 1.0441 - accuracy: 0.5640\n",
            "Epoch 18/50\n",
            "10/10 [==============================] - 6s 596ms/step - loss: 1.0225 - accuracy: 0.5839\n",
            "Epoch 19/50\n",
            "10/10 [==============================] - 6s 646ms/step - loss: 1.0277 - accuracy: 0.5897\n",
            "Epoch 20/50\n",
            "10/10 [==============================] - 7s 649ms/step - loss: 0.9904 - accuracy: 0.6005\n",
            "Epoch 21/50\n",
            "10/10 [==============================] - 6s 643ms/step - loss: 0.9955 - accuracy: 0.6075\n",
            "Epoch 22/50\n",
            "10/10 [==============================] - 8s 819ms/step - loss: 0.9619 - accuracy: 0.6213\n",
            "Epoch 23/50\n",
            "10/10 [==============================] - 7s 647ms/step - loss: 0.9408 - accuracy: 0.6243\n",
            "Epoch 24/50\n",
            "10/10 [==============================] - 7s 651ms/step - loss: 0.9853 - accuracy: 0.5981\n",
            "Epoch 25/50\n",
            "10/10 [==============================] - 6s 591ms/step - loss: 0.9249 - accuracy: 0.6295\n",
            "Epoch 26/50\n",
            "10/10 [==============================] - 6s 594ms/step - loss: 0.9206 - accuracy: 0.6407\n",
            "Epoch 27/50\n",
            "10/10 [==============================] - 6s 589ms/step - loss: 1.0156 - accuracy: 0.5885\n",
            "Epoch 28/50\n",
            "10/10 [==============================] - 6s 585ms/step - loss: 0.9097 - accuracy: 0.6361\n",
            "Epoch 29/50\n",
            "10/10 [==============================] - 6s 587ms/step - loss: 0.9113 - accuracy: 0.6351\n",
            "Epoch 30/50\n",
            "10/10 [==============================] - 6s 586ms/step - loss: 0.8996 - accuracy: 0.6428\n",
            "Epoch 31/50\n",
            "10/10 [==============================] - 6s 596ms/step - loss: 0.8472 - accuracy: 0.6709\n",
            "Epoch 32/50\n",
            "10/10 [==============================] - 6s 583ms/step - loss: 0.8514 - accuracy: 0.6714\n",
            "Epoch 33/50\n",
            "10/10 [==============================] - 6s 588ms/step - loss: 0.7854 - accuracy: 0.7006\n",
            "Epoch 34/50\n",
            "10/10 [==============================] - 6s 653ms/step - loss: 0.8467 - accuracy: 0.6827\n",
            "Epoch 35/50\n",
            "10/10 [==============================] - 7s 656ms/step - loss: 0.8594 - accuracy: 0.6537\n",
            "Epoch 36/50\n",
            "10/10 [==============================] - 7s 652ms/step - loss: 0.8117 - accuracy: 0.6804\n",
            "Epoch 37/50\n",
            "10/10 [==============================] - 7s 664ms/step - loss: 0.8115 - accuracy: 0.6981\n",
            "Epoch 38/50\n",
            "10/10 [==============================] - 7s 653ms/step - loss: 0.7437 - accuracy: 0.7276\n",
            "Epoch 39/50\n",
            "10/10 [==============================] - 6s 592ms/step - loss: 0.6875 - accuracy: 0.7395\n",
            "Epoch 40/50\n",
            "10/10 [==============================] - 6s 646ms/step - loss: 0.6798 - accuracy: 0.7350\n",
            "Epoch 41/50\n",
            "10/10 [==============================] - 6s 587ms/step - loss: 0.7439 - accuracy: 0.7201\n",
            "Epoch 42/50\n",
            "10/10 [==============================] - 6s 585ms/step - loss: 0.7975 - accuracy: 0.6755\n",
            "Epoch 43/50\n",
            "10/10 [==============================] - 6s 650ms/step - loss: 0.7681 - accuracy: 0.6924\n",
            "Epoch 44/50\n",
            "10/10 [==============================] - 7s 657ms/step - loss: 0.7272 - accuracy: 0.7229\n",
            "Epoch 45/50\n",
            "10/10 [==============================] - 6s 596ms/step - loss: 0.6920 - accuracy: 0.7293\n",
            "Epoch 46/50\n",
            "10/10 [==============================] - 6s 583ms/step - loss: 0.6684 - accuracy: 0.7349\n",
            "Epoch 47/50\n",
            "10/10 [==============================] - 7s 681ms/step - loss: 0.6301 - accuracy: 0.7554\n",
            "Epoch 48/50\n",
            "10/10 [==============================] - 7s 648ms/step - loss: 0.5948 - accuracy: 0.7738\n",
            "Epoch 49/50\n",
            "10/10 [==============================] - 6s 580ms/step - loss: 0.6108 - accuracy: 0.7615\n",
            "Epoch 50/50\n",
            "10/10 [==============================] - 6s 587ms/step - loss: 0.5976 - accuracy: 0.7794\n"
          ]
        }
      ]
    },
    {
      "cell_type": "code",
      "source": [
        "import matplotlib.pyplot as plt\n",
        "import numpy as np"
      ],
      "metadata": {
        "id": "d-MlAi2iz6qY"
      },
      "execution_count": 13,
      "outputs": []
    },
    {
      "cell_type": "code",
      "source": [
        "import cv2\n",
        "\n",
        "def import_and_predict(image_data, label):\n",
        "    \n",
        "    #read image\n",
        "    img = cv2.imread(image_data)\n",
        "    img = cv2.cvtColor(img, cv2.COLOR_BGR2RGB) \n",
        "    \n",
        "    #show the image\n",
        "    plt.imshow(img)\n",
        "    plt.axis('off')\n",
        "    \n",
        "    # resize and reshape the image\n",
        "    img_resize = (cv2.resize(img, dsize=(75, 75), interpolation=cv2.INTER_CUBIC))/255.\n",
        "    \n",
        "    img_reshape = img_resize[np.newaxis,...]\n",
        "    \n",
        "    #predict the image\n",
        "    prediction = model.predict(img_reshape)\n",
        "    print(prediction)\n",
        "    \n",
        "    label_prediction = label[np.argmax(prediction)]\n",
        "    \n",
        "    return label_prediction\n",
        " \n",
        "label = os.listdir(test_dir)\n",
        "image1_dir = os.path.join(test_dir+'dandelion/3696596109_4c4419128a_m.jpg')\n",
        "\n",
        "prediction = import_and_predict(image1_dir, label)"
      ],
      "metadata": {
        "colab": {
          "base_uri": "https://localhost:8080/",
          "height": 265
        },
        "id": "w-0g52WWmiDd",
        "outputId": "a5e43f95-4cd6-46db-9a82-747a7b09346f"
      },
      "execution_count": 14,
      "outputs": [
        {
          "output_type": "stream",
          "name": "stdout",
          "text": [
            "[[1.4438989e-02 9.2982763e-01 5.0865680e-02 4.8731186e-04 4.3804687e-03]]\n"
          ]
        },
        {
          "output_type": "display_data",
          "data": {
            "text/plain": [
              "<Figure size 432x288 with 1 Axes>"
            ],
            "image/png": "[encoded data removed]"
          },
          "metadata": {
            "needs_background": "light"
          }
        }
      ]
    },
    {
      "cell_type": "markdown",
      "source": [
        "Building Bayesian Neural network."
      ],
      "metadata": {
        "id": "Th0hn_uv0qxl"
      }
    },
    {
      "cell_type": "code",
      "source": [
        "pip install tensorflow-probability "
      ],
      "metadata": {
        "colab": {
          "base_uri": "https://localhost:8080/"
        },
        "id": "y3hgnTHb0zxr",
        "outputId": "6e7b76a3-dab5-47b9-a1df-4b5c042053d4"
      },
      "execution_count": 15,
      "outputs": [
        {
          "output_type": "stream",
          "name": "stdout",
          "text": [
            "Looking in indexes: https://pypi.org/simple, https://us-python.pkg.dev/colab-wheels/public/simple/\n",
            "Requirement already satisfied: tensorflow-probability in /usr/local/lib/python3.7/dist-packages (0.16.0)\n",
            "Requirement already satisfied: numpy>=1.13.3 in /usr/local/lib/python3.7/dist-packages (from tensorflow-probability) (1.21.6)\n",
            "Requirement already satisfied: absl-py in /usr/local/lib/python3.7/dist-packages (from tensorflow-probability) (1.2.0)\n",
            "Requirement already satisfied: cloudpickle>=1.3 in /usr/local/lib/python3.7/dist-packages (from tensorflow-probability) (1.5.0)\n",
            "Requirement already satisfied: gast>=0.3.2 in /usr/local/lib/python3.7/dist-packages (from tensorflow-probability) (0.5.3)\n",
            "Requirement already satisfied: six>=1.10.0 in /usr/local/lib/python3.7/dist-packages (from tensorflow-probability) (1.15.0)\n",
            "Requirement already satisfied: decorator in /usr/local/lib/python3.7/dist-packages (from tensorflow-probability) (4.4.2)\n",
            "Requirement already satisfied: dm-tree in /usr/local/lib/python3.7/dist-packages (from tensorflow-probability) (0.1.7)\n"
          ]
        }
      ]
    },
    {
      "cell_type": "code",
      "source": [
        "import tensorflow as tf\n",
        "import tensorflow_probability as tfp\n",
        "\n",
        "tfd = tfp.distributions\n",
        "tfpl = tfp.layers"
      ],
      "metadata": {
        "id": "3vraCrcy09Yt"
      },
      "execution_count": 16,
      "outputs": []
    },
    {
      "cell_type": "markdown",
      "source": [
        "The differences between CNN and bayesian CNN is the first convolutional layer and the last dense layer of the model"
      ],
      "metadata": {
        "id": "ZBi5IXUl1Ujx"
      }
    },
    {
      "cell_type": "markdown",
      "source": [
        "Instead of using a normal CNN Conv2D layer, we are going to use Convolutional2DReparameterization layer. The point of this layer is to take aleatoric uncertainty into account, which is the uncertainty that arises from the quality of the data"
      ],
      "metadata": {
        "id": "wzRBQoZb_YR7"
      }
    },
    {
      "cell_type": "markdown",
      "source": [
        " This layer creates an output from a distribution"
      ],
      "metadata": {
        "id": "LSLs5Jt7_iXT"
      }
    },
    {
      "cell_type": "markdown",
      "source": [
        "Prior for kernel and bias parameters: this is the prior belief on how the distribution looks like before the data is taken into account"
      ],
      "metadata": {
        "id": "uhxniRVo_0wI"
      }
    },
    {
      "cell_type": "code",
      "source": [
        "kernel_prior_fn = tfpl.default_multivariate_normal_fn\n",
        "bias_prior_fn = tfpl.default_multivariate_normal_fn,"
      ],
      "metadata": {
        "id": "RJZlRcKN_hd0"
      },
      "execution_count": 17,
      "outputs": []
    },
    {
      "cell_type": "markdown",
      "source": [
        "Posterior for kernel and bias parameters — this is the posterior belief on how the distribution looks like after seeing the evidence from data. As this is a belief after seeing the data, then we need to define the posterior with trainable parameters"
      ],
      "metadata": {
        "id": "59KuMltqAb2D"
      }
    },
    {
      "cell_type": "code",
      "source": [
        "kernel_posterior_fn = tfpl.default_mean_field_normal_fn(is_singular=False)\n",
        "bias_posterior_fn = tfpl.default_mean_field_normal_fn(is_singular=False)"
      ],
      "metadata": {
        "id": "p5WqYoqa1DzW"
      },
      "execution_count": 18,
      "outputs": []
    },
    {
      "cell_type": "markdown",
      "source": [
        "Kullback-Leibler divergence — this is the method to measure how one distribution is different from the reference distribution. For our case, this method is used to measure the divergence of our prior and posterior. The lower the value, or when its value is 0, it means that two distributions are coming from the same distribution"
      ],
      "metadata": {
        "id": "ZEwJBLvQAijz"
      }
    },
    {
      "cell_type": "code",
      "source": [
        "divergence_fn = lambda q,p,_:tfd.kl_divergence(q,p)/3457\n",
        "kernel_divergence_fn = divergence_fn\n",
        "bias_divergence_fn = divergence_fn"
      ],
      "metadata": {
        "id": "U10nLs34BJfn"
      },
      "execution_count": 19,
      "outputs": []
    },
    {
      "cell_type": "code",
      "source": [
        "divergence_fn = lambda q,p,_:tfd.kl_divergence(q,p)/3457\n",
        "\n",
        "model_bayes = Sequential([\n",
        "    \n",
        "    tfpl.Convolution2DReparameterization(input_shape=(75,75,3), filters=8, kernel_size=16, activation='relu',\n",
        "                                           kernel_prior_fn = tfpl.default_multivariate_normal_fn,\n",
        "                                           kernel_posterior_fn=tfpl.default_mean_field_normal_fn(is_singular=False),\n",
        "                                           kernel_divergence_fn = divergence_fn,\n",
        "                                           bias_prior_fn = tfpl.default_multivariate_normal_fn,\n",
        "                                           bias_posterior_fn=tfpl.default_mean_field_normal_fn(is_singular=False),\n",
        "                                           bias_divergence_fn = divergence_fn),\n",
        "    MaxPooling2D(2,2),\n",
        "    Conv2D(32, (3,3), activation='relu'),\n",
        "    MaxPooling2D(2,2),\n",
        "    Conv2D(64, (3,3), activation='relu'),\n",
        "    MaxPooling2D(2,2),\n",
        "    Conv2D(64, (3,3), activation='relu'),\n",
        "    MaxPooling2D(2,2),\n",
        "    Flatten(),\n",
        "    Dense(512, activation='relu'),\n",
        "    Dropout(0.2),\n",
        "    tfpl.DenseReparameterization(units=tfpl.OneHotCategorical.params_size(5), activation=None,\n",
        "                                    kernel_prior_fn = tfpl.default_multivariate_normal_fn,\n",
        "                                    kernel_posterior_fn=tfpl.default_mean_field_normal_fn(is_singular=False),\n",
        "                                    kernel_divergence_fn = divergence_fn,\n",
        "                                    bias_prior_fn = tfpl.default_multivariate_normal_fn,\n",
        "                                    bias_posterior_fn=tfpl.default_mean_field_normal_fn(is_singular=False),\n",
        "                                    bias_divergence_fn = divergence_fn\n",
        "                                ),\n",
        "    tfpl.OneHotCategorical(5)\n",
        "    \n",
        "])\n",
        "model_bayes.summary()"
      ],
      "metadata": {
        "colab": {
          "base_uri": "https://localhost:8080/"
        },
        "id": "t2u_12p73vyM",
        "outputId": "1e236074-33ee-4c8b-aede-ac6711949ed2"
      },
      "execution_count": 32,
      "outputs": [
        {
          "output_type": "stream",
          "name": "stdout",
          "text": [
            "Model: \"sequential_1\"\n",
            "_________________________________________________________________\n",
            " Layer (type)                Output Shape              Param #   \n",
            "=================================================================\n",
            " conv2d_reparameterization_1  (None, 60, 60, 8)        12304     \n",
            "  (Conv2DReparameterization)                                     \n",
            "                                                                 \n",
            " max_pooling2d_8 (MaxPooling  (None, 30, 30, 8)        0         \n",
            " 2D)                                                             \n",
            "                                                                 \n",
            " conv2d_7 (Conv2D)           (None, 28, 28, 32)        2336      \n",
            "                                                                 \n",
            " max_pooling2d_9 (MaxPooling  (None, 14, 14, 32)       0         \n",
            " 2D)                                                             \n",
            "                                                                 \n",
            " conv2d_8 (Conv2D)           (None, 12, 12, 64)        18496     \n",
            "                                                                 \n",
            " max_pooling2d_10 (MaxPoolin  (None, 6, 6, 64)         0         \n",
            " g2D)                                                            \n",
            "                                                                 \n",
            " conv2d_9 (Conv2D)           (None, 4, 4, 64)          36928     \n",
            "                                                                 \n",
            " max_pooling2d_11 (MaxPoolin  (None, 2, 2, 64)         0         \n",
            " g2D)                                                            \n",
            "                                                                 \n",
            " flatten_2 (Flatten)         (None, 256)               0         \n",
            "                                                                 \n",
            " dense_3 (Dense)             (None, 512)               131584    \n",
            "                                                                 \n",
            " dropout_2 (Dropout)         (None, 512)               0         \n",
            "                                                                 \n",
            " dense_reparameterization_1   (None, 5)                5130      \n",
            " (DenseReparameterization)                                       \n",
            "                                                                 \n",
            " one_hot_categorical_1 (OneH  ((None, 5),              0         \n",
            " otCategorical)               (None, 5))                         \n",
            "                                                                 \n",
            "=================================================================\n",
            "Total params: 206,778\n",
            "Trainable params: 206,778\n",
            "Non-trainable params: 0\n",
            "_________________________________________________________________\n"
          ]
        }
      ]
    },
    {
      "cell_type": "code",
      "source": [
        "from tensorflow.keras.optimizers import Adam\n",
        "\n",
        "def negative_log_likelihood(y_true, y_pred):\n",
        "    return -y_pred.log_prob(y_true)\n",
        "\n",
        "model_bayes.compile(loss = negative_log_likelihood,\n",
        "              optimizer = Adam(learning_rate=0.005),\n",
        "              metrics = ['accuracy'],\n",
        "              experimental_run_tf_function = False)"
      ],
      "metadata": {
        "id": "tLDy6lFW0CdN"
      },
      "execution_count": 33,
      "outputs": []
    },
    {
      "cell_type": "code",
      "source": [
        "\n",
        "history_bayes = model_bayes.fit(\n",
        "      train_generator,\n",
        "      epochs=300,\n",
        "      verbose=1)"
      ],
      "metadata": {
        "colab": {
          "base_uri": "https://localhost:8080/"
        },
        "id": "1vv3Pzro2KgX",
        "outputId": "4c190482-81a5-4fc9-8ed0-59896e11dca3"
      },
      "execution_count": 34,
      "outputs": [
        {
          "output_type": "stream",
          "name": "stdout",
          "text": [
            "Epoch 1/300\n",
            "17/17 [==============================] - 13s 614ms/step - loss: 7.9852 - accuracy: 0.2123\n",
            "Epoch 2/300\n",
            "17/17 [==============================] - 11s 635ms/step - loss: 7.7719 - accuracy: 0.2063\n",
            "Epoch 3/300\n",
            "17/17 [==============================] - 11s 619ms/step - loss: 7.6136 - accuracy: 0.2022\n",
            "Epoch 4/300\n",
            "17/17 [==============================] - 10s 613ms/step - loss: 7.4330 - accuracy: 0.2042\n",
            "Epoch 5/300\n",
            "17/17 [==============================] - 11s 617ms/step - loss: 7.2592 - accuracy: 0.2083\n",
            "Epoch 6/300\n",
            "17/17 [==============================] - 11s 615ms/step - loss: 7.0834 - accuracy: 0.2057\n",
            "Epoch 7/300\n",
            "17/17 [==============================] - 11s 620ms/step - loss: 6.9071 - accuracy: 0.2092\n",
            "Epoch 8/300\n",
            "17/17 [==============================] - 11s 621ms/step - loss: 6.7256 - accuracy: 0.2106\n",
            "Epoch 9/300\n",
            "17/17 [==============================] - 11s 615ms/step - loss: 6.5504 - accuracy: 0.2034\n",
            "Epoch 10/300\n",
            "17/17 [==============================] - 11s 615ms/step - loss: 6.3663 - accuracy: 0.2149\n",
            "Epoch 11/300\n",
            "17/17 [==============================] - 11s 615ms/step - loss: 6.1857 - accuracy: 0.2176\n",
            "Epoch 12/300\n",
            "17/17 [==============================] - 10s 610ms/step - loss: 6.0077 - accuracy: 0.2010\n",
            "Epoch 13/300\n",
            "17/17 [==============================] - 11s 619ms/step - loss: 5.8259 - accuracy: 0.1961\n",
            "Epoch 14/300\n",
            "17/17 [==============================] - 11s 617ms/step - loss: 5.6573 - accuracy: 0.2054\n",
            "Epoch 15/300\n",
            "17/17 [==============================] - 13s 769ms/step - loss: 5.4774 - accuracy: 0.2149\n",
            "Epoch 16/300\n",
            "17/17 [==============================] - 10s 612ms/step - loss: 5.3035 - accuracy: 0.2063\n",
            "Epoch 17/300\n",
            "17/17 [==============================] - 11s 617ms/step - loss: 5.1373 - accuracy: 0.2094\n",
            "Epoch 18/300\n",
            "17/17 [==============================] - 11s 619ms/step - loss: 4.9589 - accuracy: 0.2103\n",
            "Epoch 19/300\n",
            "17/17 [==============================] - 11s 617ms/step - loss: 4.7988 - accuracy: 0.2080\n",
            "Epoch 20/300\n",
            "17/17 [==============================] - 10s 612ms/step - loss: 4.6402 - accuracy: 0.2086\n",
            "Epoch 21/300\n",
            "17/17 [==============================] - 10s 611ms/step - loss: 4.4839 - accuracy: 0.2089\n",
            "Epoch 22/300\n",
            "17/17 [==============================] - 10s 615ms/step - loss: 4.3344 - accuracy: 0.2092\n",
            "Epoch 23/300\n",
            "17/17 [==============================] - 10s 614ms/step - loss: 4.2086 - accuracy: 0.2028\n",
            "Epoch 24/300\n",
            "17/17 [==============================] - 10s 612ms/step - loss: 4.0567 - accuracy: 0.2080\n",
            "Epoch 25/300\n",
            "17/17 [==============================] - 10s 610ms/step - loss: 3.9241 - accuracy: 0.1967\n",
            "Epoch 26/300\n",
            "17/17 [==============================] - 10s 646ms/step - loss: 3.7879 - accuracy: 0.2132\n",
            "Epoch 27/300\n",
            "17/17 [==============================] - 10s 607ms/step - loss: 3.6642 - accuracy: 0.2068\n",
            "Epoch 28/300\n",
            "17/17 [==============================] - 10s 612ms/step - loss: 3.5379 - accuracy: 0.1955\n",
            "Epoch 29/300\n",
            "17/17 [==============================] - 10s 612ms/step - loss: 3.4161 - accuracy: 0.2005\n",
            "Epoch 30/300\n",
            "17/17 [==============================] - 11s 617ms/step - loss: 3.2993 - accuracy: 0.2138\n",
            "Epoch 31/300\n",
            "17/17 [==============================] - 11s 624ms/step - loss: 3.1860 - accuracy: 0.2115\n",
            "Epoch 32/300\n",
            "17/17 [==============================] - 11s 614ms/step - loss: 3.1386 - accuracy: 0.2068\n",
            "Epoch 33/300\n",
            "17/17 [==============================] - 10s 611ms/step - loss: 2.9970 - accuracy: 0.2123\n",
            "Epoch 34/300\n",
            "17/17 [==============================] - 10s 612ms/step - loss: 2.9059 - accuracy: 0.2109\n",
            "Epoch 35/300\n",
            "17/17 [==============================] - 13s 760ms/step - loss: 2.8342 - accuracy: 0.1967\n",
            "Epoch 36/300\n",
            "17/17 [==============================] - 10s 610ms/step - loss: 2.7433 - accuracy: 0.2063\n",
            "Epoch 37/300\n",
            "17/17 [==============================] - 10s 611ms/step - loss: 2.6746 - accuracy: 0.2022\n",
            "Epoch 38/300\n",
            "17/17 [==============================] - 11s 619ms/step - loss: 2.6055 - accuracy: 0.2045\n",
            "Epoch 39/300\n",
            "17/17 [==============================] - 10s 613ms/step - loss: 2.5502 - accuracy: 0.2022\n",
            "Epoch 40/300\n",
            "17/17 [==============================] - 11s 615ms/step - loss: 2.4858 - accuracy: 0.2132\n",
            "Epoch 41/300\n",
            "17/17 [==============================] - 10s 612ms/step - loss: 2.4303 - accuracy: 0.2051\n",
            "Epoch 42/300\n",
            "17/17 [==============================] - 11s 615ms/step - loss: 2.3757 - accuracy: 0.2074\n",
            "Epoch 43/300\n",
            "17/17 [==============================] - 10s 609ms/step - loss: 2.3279 - accuracy: 0.2068\n",
            "Epoch 44/300\n",
            "17/17 [==============================] - 10s 613ms/step - loss: 2.2807 - accuracy: 0.2025\n",
            "Epoch 45/300\n",
            "17/17 [==============================] - 10s 614ms/step - loss: 2.2369 - accuracy: 0.2045\n",
            "Epoch 46/300\n",
            "17/17 [==============================] - 10s 612ms/step - loss: 2.2160 - accuracy: 0.2057\n",
            "Epoch 47/300\n",
            "17/17 [==============================] - 10s 611ms/step - loss: 2.1663 - accuracy: 0.2106\n",
            "Epoch 48/300\n",
            "17/17 [==============================] - 10s 615ms/step - loss: 2.1437 - accuracy: 0.2019\n",
            "Epoch 49/300\n",
            "17/17 [==============================] - 10s 610ms/step - loss: 2.1054 - accuracy: 0.2037\n",
            "Epoch 50/300\n",
            "17/17 [==============================] - 10s 609ms/step - loss: 2.0776 - accuracy: 0.2071\n",
            "Epoch 51/300\n",
            "17/17 [==============================] - 10s 611ms/step - loss: 2.0463 - accuracy: 0.1935\n",
            "Epoch 52/300\n",
            "17/17 [==============================] - 10s 611ms/step - loss: 2.0213 - accuracy: 0.2013\n",
            "Epoch 53/300\n",
            "17/17 [==============================] - 10s 612ms/step - loss: 1.9978 - accuracy: 0.2170\n",
            "Epoch 54/300\n",
            "17/17 [==============================] - 11s 664ms/step - loss: 2.1213 - accuracy: 0.1895\n",
            "Epoch 55/300\n",
            "17/17 [==============================] - 12s 675ms/step - loss: 1.9930 - accuracy: 0.1981\n",
            "Epoch 56/300\n",
            "17/17 [==============================] - 10s 613ms/step - loss: 1.9502 - accuracy: 0.2037\n",
            "Epoch 57/300\n",
            "17/17 [==============================] - 10s 610ms/step - loss: 1.9327 - accuracy: 0.2037\n",
            "Epoch 58/300\n",
            "17/17 [==============================] - 10s 610ms/step - loss: 1.9190 - accuracy: 0.2086\n",
            "Epoch 59/300\n",
            "17/17 [==============================] - 11s 620ms/step - loss: 1.9032 - accuracy: 0.1961\n",
            "Epoch 60/300\n",
            "17/17 [==============================] - 11s 624ms/step - loss: 1.8893 - accuracy: 0.2008\n",
            "Epoch 61/300\n",
            "17/17 [==============================] - 10s 613ms/step - loss: 1.8818 - accuracy: 0.2037\n",
            "Epoch 62/300\n",
            "17/17 [==============================] - 10s 612ms/step - loss: 1.8690 - accuracy: 0.1915\n",
            "Epoch 63/300\n",
            "17/17 [==============================] - 10s 610ms/step - loss: 1.8576 - accuracy: 0.2103\n",
            "Epoch 64/300\n",
            "17/17 [==============================] - 10s 612ms/step - loss: 1.8457 - accuracy: 0.2097\n",
            "Epoch 65/300\n",
            "17/17 [==============================] - 10s 607ms/step - loss: 1.8365 - accuracy: 0.2031\n",
            "Epoch 66/300\n",
            "17/17 [==============================] - 10s 607ms/step - loss: 1.8269 - accuracy: 0.2167\n",
            "Epoch 67/300\n",
            "17/17 [==============================] - 10s 608ms/step - loss: 1.8170 - accuracy: 0.2037\n",
            "Epoch 68/300\n",
            "17/17 [==============================] - 10s 613ms/step - loss: 1.8101 - accuracy: 0.1996\n",
            "Epoch 69/300\n",
            "17/17 [==============================] - 10s 650ms/step - loss: 1.8008 - accuracy: 0.2100\n",
            "Epoch 70/300\n",
            "17/17 [==============================] - 10s 607ms/step - loss: 1.7934 - accuracy: 0.2019\n",
            "Epoch 71/300\n",
            "17/17 [==============================] - 10s 611ms/step - loss: 1.7865 - accuracy: 0.2063\n",
            "Epoch 72/300\n",
            "17/17 [==============================] - 10s 605ms/step - loss: 1.7790 - accuracy: 0.1947\n",
            "Epoch 73/300\n",
            "17/17 [==============================] - 10s 606ms/step - loss: 1.7754 - accuracy: 0.1996\n",
            "Epoch 74/300\n",
            "17/17 [==============================] - 10s 610ms/step - loss: 1.7654 - accuracy: 0.1883\n",
            "Epoch 75/300\n",
            "17/17 [==============================] - 13s 754ms/step - loss: 1.7618 - accuracy: 0.2008\n",
            "Epoch 76/300\n",
            "17/17 [==============================] - 10s 613ms/step - loss: 1.7547 - accuracy: 0.2074\n",
            "Epoch 77/300\n",
            "17/17 [==============================] - 10s 613ms/step - loss: 1.7491 - accuracy: 0.2054\n",
            "Epoch 78/300\n",
            "17/17 [==============================] - 10s 607ms/step - loss: 1.7434 - accuracy: 0.2092\n",
            "Epoch 79/300\n",
            "17/17 [==============================] - 10s 607ms/step - loss: 1.7391 - accuracy: 0.1984\n",
            "Epoch 80/300\n",
            "17/17 [==============================] - 10s 611ms/step - loss: 1.7334 - accuracy: 0.2005\n",
            "Epoch 81/300\n",
            "17/17 [==============================] - 10s 608ms/step - loss: 1.7280 - accuracy: 0.2010\n",
            "Epoch 82/300\n",
            "17/17 [==============================] - 10s 646ms/step - loss: 1.7245 - accuracy: 0.2013\n",
            "Epoch 83/300\n",
            "17/17 [==============================] - 10s 614ms/step - loss: 1.7198 - accuracy: 0.2068\n",
            "Epoch 84/300\n",
            "17/17 [==============================] - 10s 612ms/step - loss: 1.7147 - accuracy: 0.2135\n",
            "Epoch 85/300\n",
            "17/17 [==============================] - 10s 613ms/step - loss: 1.7124 - accuracy: 0.2019\n",
            "Epoch 86/300\n",
            "17/17 [==============================] - 10s 603ms/step - loss: 1.7080 - accuracy: 0.2054\n",
            "Epoch 87/300\n",
            "17/17 [==============================] - 10s 613ms/step - loss: 1.7041 - accuracy: 0.2080\n",
            "Epoch 88/300\n",
            "17/17 [==============================] - 11s 618ms/step - loss: 1.6991 - accuracy: 0.2031\n",
            "Epoch 89/300\n",
            "17/17 [==============================] - 10s 608ms/step - loss: 1.6980 - accuracy: 0.2013\n",
            "Epoch 90/300\n",
            "17/17 [==============================] - 10s 611ms/step - loss: 1.6943 - accuracy: 0.2031\n",
            "Epoch 91/300\n",
            "17/17 [==============================] - 10s 611ms/step - loss: 1.6908 - accuracy: 0.2118\n",
            "Epoch 92/300\n",
            "17/17 [==============================] - 10s 609ms/step - loss: 1.6870 - accuracy: 0.2097\n",
            "Epoch 93/300\n",
            "17/17 [==============================] - 10s 609ms/step - loss: 1.6835 - accuracy: 0.2086\n",
            "Epoch 94/300\n",
            "17/17 [==============================] - 14s 803ms/step - loss: 1.6820 - accuracy: 0.2152\n",
            "Epoch 95/300\n",
            "17/17 [==============================] - 11s 661ms/step - loss: 1.6792 - accuracy: 0.1976\n",
            "Epoch 96/300\n",
            "17/17 [==============================] - 11s 615ms/step - loss: 1.6769 - accuracy: 0.1967\n",
            "Epoch 97/300\n",
            "17/17 [==============================] - 11s 654ms/step - loss: 1.6739 - accuracy: 0.2016\n",
            "Epoch 98/300\n",
            "17/17 [==============================] - 11s 642ms/step - loss: 1.6723 - accuracy: 0.2141\n",
            "Epoch 99/300\n",
            "17/17 [==============================] - 10s 607ms/step - loss: 1.6694 - accuracy: 0.1987\n",
            "Epoch 100/300\n",
            "17/17 [==============================] - 10s 609ms/step - loss: 1.6653 - accuracy: 0.2071\n",
            "Epoch 101/300\n",
            "17/17 [==============================] - 10s 607ms/step - loss: 1.6642 - accuracy: 0.2170\n",
            "Epoch 102/300\n",
            "17/17 [==============================] - 10s 608ms/step - loss: 1.6633 - accuracy: 0.1900\n",
            "Epoch 103/300\n",
            "17/17 [==============================] - 10s 606ms/step - loss: 1.6604 - accuracy: 0.2126\n",
            "Epoch 104/300\n",
            "17/17 [==============================] - 10s 612ms/step - loss: 1.6595 - accuracy: 0.2048\n",
            "Epoch 105/300\n",
            "17/17 [==============================] - 10s 607ms/step - loss: 1.6565 - accuracy: 0.2103\n",
            "Epoch 106/300\n",
            "17/17 [==============================] - 11s 641ms/step - loss: 1.6550 - accuracy: 0.2109\n",
            "Epoch 107/300\n",
            "17/17 [==============================] - 10s 608ms/step - loss: 1.6541 - accuracy: 0.2010\n",
            "Epoch 108/300\n",
            "17/17 [==============================] - 10s 607ms/step - loss: 1.6504 - accuracy: 0.1929\n",
            "Epoch 109/300\n",
            "17/17 [==============================] - 10s 607ms/step - loss: 1.6498 - accuracy: 0.1950\n",
            "Epoch 110/300\n",
            "17/17 [==============================] - 10s 607ms/step - loss: 1.6478 - accuracy: 0.1912\n",
            "Epoch 111/300\n",
            "17/17 [==============================] - 10s 604ms/step - loss: 1.6466 - accuracy: 0.1958\n",
            "Epoch 112/300\n",
            "17/17 [==============================] - 10s 607ms/step - loss: 1.6454 - accuracy: 0.2100\n",
            "Epoch 113/300\n",
            "17/17 [==============================] - 13s 757ms/step - loss: 1.6427 - accuracy: 0.2025\n",
            "Epoch 114/300\n",
            "17/17 [==============================] - 10s 610ms/step - loss: 1.6423 - accuracy: 0.1964\n",
            "Epoch 115/300\n",
            "17/17 [==============================] - 10s 604ms/step - loss: 1.6397 - accuracy: 0.1999\n",
            "Epoch 116/300\n",
            "17/17 [==============================] - 10s 611ms/step - loss: 1.6399 - accuracy: 0.2042\n",
            "Epoch 117/300\n",
            "17/17 [==============================] - 11s 616ms/step - loss: 1.6386 - accuracy: 0.1952\n",
            "Epoch 118/300\n",
            "17/17 [==============================] - 10s 611ms/step - loss: 1.6375 - accuracy: 0.2037\n",
            "Epoch 119/300\n",
            "17/17 [==============================] - 10s 610ms/step - loss: 1.6364 - accuracy: 0.2048\n",
            "Epoch 120/300\n",
            "17/17 [==============================] - 10s 604ms/step - loss: 1.6351 - accuracy: 0.1967\n",
            "Epoch 121/300\n",
            "17/17 [==============================] - 10s 609ms/step - loss: 1.6348 - accuracy: 0.2097\n",
            "Epoch 122/300\n",
            "17/17 [==============================] - 10s 642ms/step - loss: 1.6340 - accuracy: 0.2028\n",
            "Epoch 123/300\n",
            "17/17 [==============================] - 10s 606ms/step - loss: 1.6323 - accuracy: 0.2002\n",
            "Epoch 124/300\n",
            "17/17 [==============================] - 10s 610ms/step - loss: 1.6313 - accuracy: 0.1952\n",
            "Epoch 125/300\n",
            "17/17 [==============================] - 10s 610ms/step - loss: 1.6311 - accuracy: 0.2060\n",
            "Epoch 126/300\n",
            "17/17 [==============================] - 10s 607ms/step - loss: 1.6304 - accuracy: 0.2013\n",
            "Epoch 127/300\n",
            "17/17 [==============================] - 10s 611ms/step - loss: 1.6287 - accuracy: 0.2086\n",
            "Epoch 128/300\n",
            "17/17 [==============================] - 10s 607ms/step - loss: 1.6271 - accuracy: 0.1935\n",
            "Epoch 129/300\n",
            "17/17 [==============================] - 10s 608ms/step - loss: 1.6258 - accuracy: 0.2042\n",
            "Epoch 130/300\n",
            "17/17 [==============================] - 10s 614ms/step - loss: 1.6261 - accuracy: 0.1944\n",
            "Epoch 131/300\n",
            "17/17 [==============================] - 10s 606ms/step - loss: 1.6248 - accuracy: 0.1981\n",
            "Epoch 132/300\n",
            "17/17 [==============================] - 12s 736ms/step - loss: 1.6235 - accuracy: 0.1987\n",
            "Epoch 133/300\n",
            "17/17 [==============================] - 10s 610ms/step - loss: 1.6227 - accuracy: 0.2057\n",
            "Epoch 134/300\n",
            "17/17 [==============================] - 10s 612ms/step - loss: 1.6249 - accuracy: 0.2008\n",
            "Epoch 135/300\n",
            "17/17 [==============================] - 10s 613ms/step - loss: 1.6242 - accuracy: 0.1987\n",
            "Epoch 136/300\n",
            "17/17 [==============================] - 10s 608ms/step - loss: 1.6214 - accuracy: 0.2065\n",
            "Epoch 137/300\n",
            "17/17 [==============================] - 10s 611ms/step - loss: 1.6222 - accuracy: 0.2112\n",
            "Epoch 138/300\n",
            "17/17 [==============================] - 10s 606ms/step - loss: 1.6204 - accuracy: 0.2097\n",
            "Epoch 139/300\n",
            "17/17 [==============================] - 10s 606ms/step - loss: 1.6202 - accuracy: 0.2057\n",
            "Epoch 140/300\n",
            "17/17 [==============================] - 10s 611ms/step - loss: 1.6190 - accuracy: 0.2060\n",
            "Epoch 141/300\n",
            "17/17 [==============================] - 10s 610ms/step - loss: 1.6180 - accuracy: 0.2037\n",
            "Epoch 142/300\n",
            "17/17 [==============================] - 10s 611ms/step - loss: 1.6184 - accuracy: 0.2065\n",
            "Epoch 143/300\n",
            "17/17 [==============================] - 10s 605ms/step - loss: 1.6179 - accuracy: 0.2123\n",
            "Epoch 144/300\n",
            "17/17 [==============================] - 11s 617ms/step - loss: 1.6184 - accuracy: 0.1993\n",
            "Epoch 145/300\n",
            "17/17 [==============================] - 11s 619ms/step - loss: 1.6175 - accuracy: 0.1984\n",
            "Epoch 146/300\n",
            "17/17 [==============================] - 11s 619ms/step - loss: 1.6161 - accuracy: 0.2100\n",
            "Epoch 147/300\n",
            "17/17 [==============================] - 11s 615ms/step - loss: 1.6164 - accuracy: 0.2068\n",
            "Epoch 148/300\n",
            "17/17 [==============================] - 10s 614ms/step - loss: 1.6154 - accuracy: 0.2074\n",
            "Epoch 149/300\n",
            "17/17 [==============================] - 10s 649ms/step - loss: 1.6159 - accuracy: 0.2205\n",
            "Epoch 150/300\n",
            "17/17 [==============================] - 10s 613ms/step - loss: 1.6136 - accuracy: 0.1935\n",
            "Epoch 151/300\n",
            "17/17 [==============================] - 13s 760ms/step - loss: 1.6146 - accuracy: 0.2118\n",
            "Epoch 152/300\n",
            "17/17 [==============================] - 10s 612ms/step - loss: 1.6142 - accuracy: 0.2141\n",
            "Epoch 153/300\n",
            "17/17 [==============================] - 10s 608ms/step - loss: 1.6147 - accuracy: 0.2010\n",
            "Epoch 154/300\n",
            "17/17 [==============================] - 10s 611ms/step - loss: 1.6139 - accuracy: 0.1929\n",
            "Epoch 155/300\n",
            "17/17 [==============================] - 10s 609ms/step - loss: 1.6137 - accuracy: 0.2144\n",
            "Epoch 156/300\n",
            "17/17 [==============================] - 10s 612ms/step - loss: 1.6122 - accuracy: 0.2042\n",
            "Epoch 157/300\n",
            "17/17 [==============================] - 10s 612ms/step - loss: 1.6130 - accuracy: 0.2083\n",
            "Epoch 158/300\n",
            "17/17 [==============================] - 10s 646ms/step - loss: 1.6126 - accuracy: 0.2074\n",
            "Epoch 159/300\n",
            "17/17 [==============================] - 10s 609ms/step - loss: 1.6124 - accuracy: 0.2048\n",
            "Epoch 160/300\n",
            "17/17 [==============================] - 10s 641ms/step - loss: 1.6128 - accuracy: 0.2193\n",
            "Epoch 161/300\n",
            "17/17 [==============================] - 10s 609ms/step - loss: 1.6118 - accuracy: 0.2077\n",
            "Epoch 162/300\n",
            "17/17 [==============================] - 10s 612ms/step - loss: 1.6115 - accuracy: 0.2106\n",
            "Epoch 163/300\n",
            "17/17 [==============================] - 11s 613ms/step - loss: 1.6106 - accuracy: 0.1987\n",
            "Epoch 164/300\n",
            "17/17 [==============================] - 10s 614ms/step - loss: 1.6122 - accuracy: 0.2089\n",
            "Epoch 165/300\n",
            "17/17 [==============================] - 10s 609ms/step - loss: 1.6101 - accuracy: 0.2074\n",
            "Epoch 166/300\n",
            "17/17 [==============================] - 10s 609ms/step - loss: 1.6117 - accuracy: 0.2074\n",
            "Epoch 167/300\n",
            "17/17 [==============================] - 10s 610ms/step - loss: 1.6362 - accuracy: 0.1952\n",
            "Epoch 168/300\n",
            "17/17 [==============================] - 10s 613ms/step - loss: 1.6201 - accuracy: 0.2002\n",
            "Epoch 169/300\n",
            "17/17 [==============================] - 10s 607ms/step - loss: 1.6193 - accuracy: 0.2039\n",
            "Epoch 170/300\n",
            "17/17 [==============================] - 10s 611ms/step - loss: 1.6187 - accuracy: 0.2077\n",
            "Epoch 171/300\n",
            "17/17 [==============================] - 13s 745ms/step - loss: 1.6184 - accuracy: 0.2042\n",
            "Epoch 172/300\n",
            "17/17 [==============================] - 11s 621ms/step - loss: 1.6171 - accuracy: 0.2149\n",
            "Epoch 173/300\n",
            "17/17 [==============================] - 11s 621ms/step - loss: 1.6155 - accuracy: 0.2037\n",
            "Epoch 174/300\n",
            "17/17 [==============================] - 10s 607ms/step - loss: 1.6152 - accuracy: 0.2016\n",
            "Epoch 175/300\n",
            "17/17 [==============================] - 10s 611ms/step - loss: 1.6153 - accuracy: 0.1976\n",
            "Epoch 176/300\n",
            "17/17 [==============================] - 10s 606ms/step - loss: 1.6150 - accuracy: 0.2025\n",
            "Epoch 177/300\n",
            "17/17 [==============================] - 10s 609ms/step - loss: 1.6145 - accuracy: 0.2051\n",
            "Epoch 178/300\n",
            "17/17 [==============================] - 10s 613ms/step - loss: 1.6140 - accuracy: 0.2037\n",
            "Epoch 179/300\n",
            "17/17 [==============================] - 10s 613ms/step - loss: 1.6126 - accuracy: 0.1961\n",
            "Epoch 180/300\n",
            "17/17 [==============================] - 10s 613ms/step - loss: 1.6122 - accuracy: 0.2135\n",
            "Epoch 181/300\n",
            "17/17 [==============================] - 10s 610ms/step - loss: 1.6113 - accuracy: 0.1999\n",
            "Epoch 182/300\n",
            "17/17 [==============================] - 10s 609ms/step - loss: 1.6107 - accuracy: 0.1964\n",
            "Epoch 183/300\n",
            "17/17 [==============================] - 10s 603ms/step - loss: 1.6111 - accuracy: 0.2037\n",
            "Epoch 184/300\n",
            "17/17 [==============================] - 10s 612ms/step - loss: 1.6113 - accuracy: 0.1996\n",
            "Epoch 185/300\n",
            "17/17 [==============================] - 10s 609ms/step - loss: 1.6110 - accuracy: 0.2031\n",
            "Epoch 186/300\n",
            "17/17 [==============================] - 10s 609ms/step - loss: 1.6111 - accuracy: 0.2028\n",
            "Epoch 187/300\n",
            "17/17 [==============================] - 10s 612ms/step - loss: 1.6091 - accuracy: 0.1955\n",
            "Epoch 188/300\n",
            "17/17 [==============================] - 10s 610ms/step - loss: 1.6096 - accuracy: 0.2063\n",
            "Epoch 189/300\n",
            "17/17 [==============================] - 10s 609ms/step - loss: 1.6090 - accuracy: 0.2028\n",
            "Epoch 190/300\n",
            "17/17 [==============================] - 12s 709ms/step - loss: 1.6095 - accuracy: 0.2031\n",
            "Epoch 191/300\n",
            "17/17 [==============================] - 11s 608ms/step - loss: 1.6088 - accuracy: 0.2039\n",
            "Epoch 192/300\n",
            "17/17 [==============================] - 10s 607ms/step - loss: 1.6085 - accuracy: 0.2068\n",
            "Epoch 193/300\n",
            "17/17 [==============================] - 10s 609ms/step - loss: 1.6081 - accuracy: 0.2222\n",
            "Epoch 194/300\n",
            "17/17 [==============================] - 10s 611ms/step - loss: 1.6077 - accuracy: 0.2147\n",
            "Epoch 195/300\n",
            "17/17 [==============================] - 10s 608ms/step - loss: 1.6076 - accuracy: 0.1996\n",
            "Epoch 196/300\n",
            "17/17 [==============================] - 10s 608ms/step - loss: 1.6090 - accuracy: 0.2039\n",
            "Epoch 197/300\n",
            "17/17 [==============================] - 10s 642ms/step - loss: 1.6066 - accuracy: 0.2051\n",
            "Epoch 198/300\n",
            "17/17 [==============================] - 10s 608ms/step - loss: 1.6074 - accuracy: 0.2034\n",
            "Epoch 199/300\n",
            "17/17 [==============================] - 11s 619ms/step - loss: 1.6061 - accuracy: 0.2132\n",
            "Epoch 200/300\n",
            "17/17 [==============================] - 12s 681ms/step - loss: 1.6065 - accuracy: 0.2071\n",
            "Epoch 201/300\n",
            "17/17 [==============================] - 11s 617ms/step - loss: 1.6068 - accuracy: 0.2123\n",
            "Epoch 202/300\n",
            "17/17 [==============================] - 10s 606ms/step - loss: 1.6064 - accuracy: 0.2100\n",
            "Epoch 203/300\n",
            "17/17 [==============================] - 10s 606ms/step - loss: 1.6065 - accuracy: 0.1996\n",
            "Epoch 204/300\n",
            "17/17 [==============================] - 10s 611ms/step - loss: 1.6060 - accuracy: 0.2225\n",
            "Epoch 205/300\n",
            "17/17 [==============================] - 10s 608ms/step - loss: 1.6064 - accuracy: 0.2129\n",
            "Epoch 206/300\n",
            "17/17 [==============================] - 10s 606ms/step - loss: 1.6073 - accuracy: 0.2057\n",
            "Epoch 207/300\n",
            "17/17 [==============================] - 10s 609ms/step - loss: 1.6059 - accuracy: 0.2048\n",
            "Epoch 208/300\n",
            "17/17 [==============================] - 10s 613ms/step - loss: 1.6069 - accuracy: 0.1958\n",
            "Epoch 209/300\n",
            "17/17 [==============================] - 10s 610ms/step - loss: 1.6056 - accuracy: 0.2068\n",
            "Epoch 210/300\n",
            "17/17 [==============================] - 13s 756ms/step - loss: 1.6060 - accuracy: 0.2129\n",
            "Epoch 211/300\n",
            "17/17 [==============================] - 11s 663ms/step - loss: 1.6060 - accuracy: 0.2092\n",
            "Epoch 212/300\n",
            "17/17 [==============================] - 11s 615ms/step - loss: 1.6051 - accuracy: 0.1990\n",
            "Epoch 213/300\n",
            "17/17 [==============================] - 10s 611ms/step - loss: 1.6051 - accuracy: 0.2054\n",
            "Epoch 214/300\n",
            "17/17 [==============================] - 10s 611ms/step - loss: 1.6047 - accuracy: 0.2132\n",
            "Epoch 215/300\n",
            "17/17 [==============================] - 10s 611ms/step - loss: 1.6047 - accuracy: 0.2161\n",
            "Epoch 216/300\n",
            "17/17 [==============================] - 10s 614ms/step - loss: 1.6051 - accuracy: 0.2057\n",
            "Epoch 217/300\n",
            "17/17 [==============================] - 10s 612ms/step - loss: 1.6060 - accuracy: 0.2025\n",
            "Epoch 218/300\n",
            "17/17 [==============================] - 10s 609ms/step - loss: 1.6047 - accuracy: 0.1924\n",
            "Epoch 219/300\n",
            "17/17 [==============================] - 10s 610ms/step - loss: 1.6045 - accuracy: 0.1987\n",
            "Epoch 220/300\n",
            "17/17 [==============================] - 10s 607ms/step - loss: 1.6042 - accuracy: 0.2068\n",
            "Epoch 221/300\n",
            "17/17 [==============================] - 10s 607ms/step - loss: 1.6048 - accuracy: 0.1935\n",
            "Epoch 222/300\n",
            "17/17 [==============================] - 10s 610ms/step - loss: 1.6059 - accuracy: 0.2141\n",
            "Epoch 223/300\n",
            "17/17 [==============================] - 10s 613ms/step - loss: 1.6046 - accuracy: 0.2016\n",
            "Epoch 224/300\n",
            "17/17 [==============================] - 10s 609ms/step - loss: 1.6048 - accuracy: 0.2010\n",
            "Epoch 225/300\n",
            "17/17 [==============================] - 10s 610ms/step - loss: 1.6053 - accuracy: 0.2063\n",
            "Epoch 226/300\n",
            "17/17 [==============================] - 10s 608ms/step - loss: 1.6049 - accuracy: 0.2034\n",
            "Epoch 227/300\n",
            "17/17 [==============================] - 10s 611ms/step - loss: 1.6033 - accuracy: 0.1970\n",
            "Epoch 228/300\n",
            "17/17 [==============================] - 10s 611ms/step - loss: 1.6051 - accuracy: 0.1993\n",
            "Epoch 229/300\n",
            "17/17 [==============================] - 11s 615ms/step - loss: 1.6038 - accuracy: 0.2034\n",
            "Epoch 230/300\n",
            "17/17 [==============================] - 11s 622ms/step - loss: 1.6038 - accuracy: 0.2051\n",
            "Epoch 231/300\n",
            "17/17 [==============================] - 13s 756ms/step - loss: 1.6038 - accuracy: 0.2045\n",
            "Epoch 232/300\n",
            "17/17 [==============================] - 10s 608ms/step - loss: 1.6056 - accuracy: 0.2103\n",
            "Epoch 233/300\n",
            "17/17 [==============================] - 10s 606ms/step - loss: 1.6035 - accuracy: 0.2065\n",
            "Epoch 234/300\n",
            "17/17 [==============================] - 10s 611ms/step - loss: 1.6062 - accuracy: 0.1993\n",
            "Epoch 235/300\n",
            "17/17 [==============================] - 10s 611ms/step - loss: 1.6046 - accuracy: 0.2089\n",
            "Epoch 236/300\n",
            "17/17 [==============================] - 10s 607ms/step - loss: 1.6040 - accuracy: 0.2051\n",
            "Epoch 237/300\n",
            "17/17 [==============================] - 10s 610ms/step - loss: 1.6040 - accuracy: 0.1874\n",
            "Epoch 238/300\n",
            "17/17 [==============================] - 10s 613ms/step - loss: 1.6050 - accuracy: 0.2042\n",
            "Epoch 239/300\n",
            "17/17 [==============================] - 10s 613ms/step - loss: 1.6029 - accuracy: 0.1973\n",
            "Epoch 240/300\n",
            "17/17 [==============================] - 10s 611ms/step - loss: 1.6039 - accuracy: 0.2077\n",
            "Epoch 241/300\n",
            "17/17 [==============================] - 10s 610ms/step - loss: 1.6051 - accuracy: 0.1961\n",
            "Epoch 242/300\n",
            "17/17 [==============================] - 10s 606ms/step - loss: 1.6056 - accuracy: 0.2077\n",
            "Epoch 243/300\n",
            "17/17 [==============================] - 10s 642ms/step - loss: 1.6047 - accuracy: 0.2147\n",
            "Epoch 244/300\n",
            "17/17 [==============================] - 10s 607ms/step - loss: 1.6037 - accuracy: 0.1996\n",
            "Epoch 245/300\n",
            "17/17 [==============================] - 11s 615ms/step - loss: 1.6046 - accuracy: 0.2106\n",
            "Epoch 246/300\n",
            "17/17 [==============================] - 10s 611ms/step - loss: 1.6037 - accuracy: 0.1961\n",
            "Epoch 247/300\n",
            "17/17 [==============================] - 10s 609ms/step - loss: 1.6031 - accuracy: 0.2103\n",
            "Epoch 248/300\n",
            "17/17 [==============================] - 10s 607ms/step - loss: 1.6040 - accuracy: 0.1912\n",
            "Epoch 249/300\n",
            "17/17 [==============================] - 10s 607ms/step - loss: 1.6035 - accuracy: 0.1979\n",
            "Epoch 250/300\n",
            "17/17 [==============================] - 10s 611ms/step - loss: 1.6040 - accuracy: 0.2028\n",
            "Epoch 251/300\n",
            "17/17 [==============================] - 10s 610ms/step - loss: 1.6043 - accuracy: 0.2210\n",
            "Epoch 252/300\n",
            "17/17 [==============================] - 13s 759ms/step - loss: 1.6038 - accuracy: 0.2054\n",
            "Epoch 253/300\n",
            "17/17 [==============================] - 10s 612ms/step - loss: 1.6057 - accuracy: 0.2005\n",
            "Epoch 254/300\n",
            "17/17 [==============================] - 10s 612ms/step - loss: 1.6045 - accuracy: 0.2080\n",
            "Epoch 255/300\n",
            "17/17 [==============================] - 10s 608ms/step - loss: 1.6034 - accuracy: 0.2042\n",
            "Epoch 256/300\n",
            "17/17 [==============================] - 10s 608ms/step - loss: 1.6031 - accuracy: 0.1932\n",
            "Epoch 257/300\n",
            "17/17 [==============================] - 10s 605ms/step - loss: 1.6042 - accuracy: 0.2005\n",
            "Epoch 258/300\n",
            "17/17 [==============================] - 11s 617ms/step - loss: 1.6020 - accuracy: 0.1947\n",
            "Epoch 259/300\n",
            "17/17 [==============================] - 10s 608ms/step - loss: 1.6031 - accuracy: 0.1984\n",
            "Epoch 260/300\n",
            "17/17 [==============================] - 10s 610ms/step - loss: 1.6046 - accuracy: 0.1964\n",
            "Epoch 261/300\n",
            "17/17 [==============================] - 10s 609ms/step - loss: 1.6047 - accuracy: 0.2028\n",
            "Epoch 262/300\n",
            "17/17 [==============================] - 10s 607ms/step - loss: 1.6033 - accuracy: 0.2039\n",
            "Epoch 263/300\n",
            "17/17 [==============================] - 10s 612ms/step - loss: 1.6036 - accuracy: 0.1984\n",
            "Epoch 264/300\n",
            "17/17 [==============================] - 10s 610ms/step - loss: 1.6035 - accuracy: 0.2063\n",
            "Epoch 265/300\n",
            "17/17 [==============================] - 10s 605ms/step - loss: 1.6034 - accuracy: 0.2112\n",
            "Epoch 266/300\n",
            "17/17 [==============================] - 10s 607ms/step - loss: 1.6027 - accuracy: 0.2100\n",
            "Epoch 267/300\n",
            "17/17 [==============================] - 10s 607ms/step - loss: 1.6041 - accuracy: 0.2034\n",
            "Epoch 268/300\n",
            "17/17 [==============================] - 10s 612ms/step - loss: 1.6043 - accuracy: 0.2008\n",
            "Epoch 269/300\n",
            "17/17 [==============================] - 10s 607ms/step - loss: 1.6035 - accuracy: 0.1912\n",
            "Epoch 270/300\n",
            "17/17 [==============================] - 10s 606ms/step - loss: 1.6042 - accuracy: 0.2126\n",
            "Epoch 271/300\n",
            "17/17 [==============================] - 10s 606ms/step - loss: 1.6049 - accuracy: 0.2126\n",
            "Epoch 272/300\n",
            "17/17 [==============================] - 12s 728ms/step - loss: 1.6047 - accuracy: 0.1958\n",
            "Epoch 273/300\n",
            "17/17 [==============================] - 10s 604ms/step - loss: 1.6043 - accuracy: 0.2005\n",
            "Epoch 274/300\n",
            "17/17 [==============================] - 10s 609ms/step - loss: 1.6031 - accuracy: 0.1932\n",
            "Epoch 275/300\n",
            "17/17 [==============================] - 10s 610ms/step - loss: 1.6039 - accuracy: 0.1938\n",
            "Epoch 276/300\n",
            "17/17 [==============================] - 10s 614ms/step - loss: 1.6029 - accuracy: 0.2138\n",
            "Epoch 277/300\n",
            "17/17 [==============================] - 10s 605ms/step - loss: 1.6043 - accuracy: 0.2126\n",
            "Epoch 278/300\n",
            "17/17 [==============================] - 10s 610ms/step - loss: 1.6033 - accuracy: 0.2121\n",
            "Epoch 279/300\n",
            "17/17 [==============================] - 10s 608ms/step - loss: 1.6037 - accuracy: 0.2057\n",
            "Epoch 280/300\n",
            "17/17 [==============================] - 10s 607ms/step - loss: 1.6036 - accuracy: 0.2135\n",
            "Epoch 281/300\n",
            "17/17 [==============================] - 10s 606ms/step - loss: 1.6031 - accuracy: 0.2002\n",
            "Epoch 282/300\n",
            "17/17 [==============================] - 10s 606ms/step - loss: 1.6031 - accuracy: 0.2031\n",
            "Epoch 283/300\n",
            "17/17 [==============================] - 10s 615ms/step - loss: 1.6029 - accuracy: 0.2115\n",
            "Epoch 284/300\n",
            "17/17 [==============================] - 10s 610ms/step - loss: 1.6029 - accuracy: 0.1967\n",
            "Epoch 285/300\n",
            "17/17 [==============================] - 10s 604ms/step - loss: 1.6036 - accuracy: 0.2016\n",
            "Epoch 286/300\n",
            "17/17 [==============================] - 10s 609ms/step - loss: 1.6038 - accuracy: 0.2051\n",
            "Epoch 287/300\n",
            "17/17 [==============================] - 11s 616ms/step - loss: 1.6039 - accuracy: 0.2135\n",
            "Epoch 288/300\n",
            "17/17 [==============================] - 11s 614ms/step - loss: 1.6041 - accuracy: 0.2042\n",
            "Epoch 289/300\n",
            "17/17 [==============================] - 10s 644ms/step - loss: 1.6029 - accuracy: 0.1955\n",
            "Epoch 290/300\n",
            "17/17 [==============================] - 10s 612ms/step - loss: 1.6038 - accuracy: 0.2048\n",
            "Epoch 291/300\n",
            "17/17 [==============================] - 11s 615ms/step - loss: 1.6040 - accuracy: 0.2019\n",
            "Epoch 292/300\n",
            "17/17 [==============================] - 10s 645ms/step - loss: 1.6040 - accuracy: 0.2016\n",
            "Epoch 293/300\n",
            "17/17 [==============================] - 10s 609ms/step - loss: 1.6034 - accuracy: 0.2094\n",
            "Epoch 294/300\n",
            "17/17 [==============================] - 13s 748ms/step - loss: 1.6027 - accuracy: 0.2022\n",
            "Epoch 295/300\n",
            "17/17 [==============================] - 10s 612ms/step - loss: 1.6030 - accuracy: 0.2074\n",
            "Epoch 296/300\n",
            "17/17 [==============================] - 10s 605ms/step - loss: 1.6033 - accuracy: 0.2048\n",
            "Epoch 297/300\n",
            "17/17 [==============================] - 11s 616ms/step - loss: 1.6038 - accuracy: 0.2037\n",
            "Epoch 298/300\n",
            "17/17 [==============================] - 10s 610ms/step - loss: 1.6029 - accuracy: 0.2092\n",
            "Epoch 299/300\n",
            "17/17 [==============================] - 10s 612ms/step - loss: 1.6033 - accuracy: 0.2068\n",
            "Epoch 300/300\n",
            "17/17 [==============================] - 10s 606ms/step - loss: 1.6033 - accuracy: 0.2060\n"
          ]
        }
      ]
    },
    {
      "cell_type": "code",
      "source": [
        "def import_and_predict_bayes(image, true_label):\n",
        "\n",
        "    #read image\n",
        "    img = cv2.imread(image)\n",
        "    img = cv2.cvtColor(img, cv2.COLOR_BGR2RGB) \n",
        "    \n",
        "    #show the image\n",
        "    plt.imshow(img)\n",
        "    plt.axis('off')\n",
        "    \n",
        "    img_resize = (cv2.resize(img, dsize=(75, 75), interpolation=cv2.INTER_CUBIC))/255.\n",
        "    \n",
        "    predicted_probabilities = np.empty(shape=(300, 5))\n",
        "    \n",
        "    for i in range(300):\n",
        "        \n",
        "        predicted_probabilities[i] = model_bayes(img_resize[np.newaxis,...]).mean().numpy()[0]\n",
        "        \n",
        "    pct_2p5 = np.array([np.percentile(predicted_probabilities[:, i], 2.5) for i in range(5)])\n",
        "    pct_97p5 = np.array([np.percentile(predicted_probabilities[:, i], 97.5) for i in range(5)])\n",
        "    \n",
        "    fig, ax = plt.subplots(figsize=(12, 6))\n",
        "    bar = ax.bar(np.arange(5), pct_97p5, color='red')\n",
        "    bar[true_label].set_color('green')\n",
        "    bar = ax.bar(np.arange(5), pct_2p5-0.02, color='white')\n",
        "    ax.set_xticklabels([''] + [x for x in label])\n",
        "    ax.set_ylim([0, 1])\n",
        "    ax.set_ylabel('Probability')\n",
        "    plt.show()"
      ],
      "metadata": {
        "id": "uVup-1OX2uD6"
      },
      "execution_count": 36,
      "outputs": []
    },
    {
      "cell_type": "code",
      "source": [
        ""
      ],
      "metadata": {
        "id": "keWx3t7tExWh"
      },
      "execution_count": null,
      "outputs": []
    }
  ]
}